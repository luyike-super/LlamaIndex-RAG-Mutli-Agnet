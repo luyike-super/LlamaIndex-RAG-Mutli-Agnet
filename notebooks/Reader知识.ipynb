{
 "cells": [
  {
   "cell_type": "code",
   "execution_count": null,
   "metadata": {
    "vscode": {
     "languageId": "plaintext"
    }
   },
   "outputs": [],
   "source": [
    "from llama_index.readers.file import FlatReader\n",
    "from llama_index.readers.file import MarkdownReader\n",
    "from llama_index.core.node_parser import SentenceSplitter, MarkdownElementNodeParser\n",
    "from pathlib import Path\n",
    "\n",
    "# 假设我们有一个示例Markdown文件\n",
    "sample_md_content = \"\"\"\n",
    "# 人工智能简介\n",
    "\n",
    "## 机器学习基础\n",
    "机器学习是人工智能的一个子领域，专注于开发能够从数据中学习的算法。\n",
    "\n",
    "### 监督学习\n",
    "监督学习使用带标签的数据来训练模型。\n",
    "\n",
    "## 深度学习\n",
    "深度学习使用神经网络处理复杂问题。\n",
    "\"\"\"\n",
    "\n",
    "# 创建一个临时Markdown文件\n",
    "with open(\"sample.md\", \"w\", encoding=\"utf-8\") as f:\n",
    "    f.write(sample_md_content)\n",
    "\n",
    "# 使用FlatReader读取 - 修复：将字符串路径转换为Path对象\n",
    "flat_reader = FlatReader()\n",
    "flat_docs = flat_reader.load_data(Path(\"sample.md\"))\n",
    "\n",
    "print(\"=== FlatReader 结果 ===\")\n",
    "print(f\"文档数量: {len(flat_docs)}\")\n",
    "print(f\"第一个文档内容:\\n{flat_docs[0].text}\\n\")\n",
    "print(f\"元数据: {flat_docs[0].metadata}\")\n",
    "\n",
    "# 使用常规分块器处理FlatReader结果\n",
    "sentence_splitter = SentenceSplitter(chunk_size=400)\n",
    "flat_nodes = sentence_splitter.get_nodes_from_documents(flat_docs)\n",
    "print(f\"\\nFlatReader分块后节点数: {len(flat_nodes)}\")\n",
    "print(f\"第一个节点内容: {flat_nodes[0].text}\")\n",
    "\n",
    "# 使用MarkdownReader读取 - 同样修复为Path对象\n",
    "md_reader = MarkdownReader()\n",
    "md_docs = md_reader.load_data(Path(\"data/星球的秘密.md\"))\n",
    "\n",
    "for i in md_docs:\n",
    "    print(i.metadata)\n",
    "print(\"================\")\n",
    "for i in md_docs:\n",
    "    print(i.text)"
   ]
  }
 ],
 "metadata": {
  "language_info": {
   "name": "python"
  }
 },
 "nbformat": 4,
 "nbformat_minor": 2
}
